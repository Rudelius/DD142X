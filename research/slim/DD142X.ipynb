{
 "cells": [
  {
   "cell_type": "markdown",
   "metadata": {},
   "source": [
    "# DD142X\n",
    "\n",
    "### Prerequisites\n",
    "* Python v3.7\n",
    "* Tensorflow v1.4.2 \n",
    "* Installera massa skit med pip för att få det att fungera\n",
    "* Jag ändrade i train_image_classifier.py för att träna på CPU\n",
    "\n",
    "Det kan funka med andra versioner, men inte Tensorflow 2.\n",
    "\n",
    "### Ladda in directories"
   ]
  },
  {
   "cell_type": "code",
   "execution_count": 6,
   "metadata": {},
   "outputs": [
    {
     "name": "stdout",
     "output_type": "stream",
     "text": [
      "env: PRETRAINED_CHECKPOINT_DIR=/tmp/checkpoints\n",
      "env: TRAIN_DIR=/tmp/cancer-models/inception_v3\n",
      "env: DATASET_DIR=/tmp/data/flowers\n"
     ]
    }
   ],
   "source": [
    "# Where the pre-trained InceptionV3 checkpoint is saved to.\n",
    "%env PRETRAINED_CHECKPOINT_DIR=/tmp/checkpoints\n",
    "\n",
    "# Where the training (fine-tuned) checkpoint and logs will be saved to.\n",
    "%env TRAIN_DIR=/tmp/cancer-models/inception_v3\n",
    "\n",
    "# Where the dataset is saved to.\n",
    "%env DATASET_DIR=/tmp/data/flowers"
   ]
  },
  {
   "cell_type": "code",
   "execution_count": 7,
   "metadata": {},
   "outputs": [
    {
     "name": "stdout",
     "output_type": "stream",
     "text": [
      "WARNING:tensorflow:From /Users/johan/Dev/kexet/models/research/slim/datasets/download_and_convert_flowers.py:183: The name tf.gfile.Exists is deprecated. Please use tf.io.gfile.exists instead.\n",
      "\n",
      "W0504 11:57:00.058064 4722865600 module_wrapper.py:139] From /Users/johan/Dev/kexet/models/research/slim/datasets/download_and_convert_flowers.py:183: The name tf.gfile.Exists is deprecated. Please use tf.io.gfile.exists instead.\n",
      "\n",
      "WARNING:tensorflow:From /Users/johan/Dev/kexet/models/research/slim/datasets/download_and_convert_flowers.py:184: The name tf.gfile.MakeDirs is deprecated. Please use tf.io.gfile.makedirs instead.\n",
      "\n",
      "W0504 11:57:00.058404 4722865600 module_wrapper.py:139] From /Users/johan/Dev/kexet/models/research/slim/datasets/download_and_convert_flowers.py:184: The name tf.gfile.MakeDirs is deprecated. Please use tf.io.gfile.makedirs instead.\n",
      "\n",
      ">> Downloading flower_photos.tgz 100.0%\n",
      "Successfully downloaded flower_photos.tgz 228813984 bytes.\n",
      "WARNING:tensorflow:From /Users/johan/Dev/kexet/models/research/slim/datasets/download_and_convert_flowers.py:57: The name tf.placeholder is deprecated. Please use tf.compat.v1.placeholder instead.\n",
      "\n",
      "W0504 11:57:22.499127 4722865600 module_wrapper.py:139] From /Users/johan/Dev/kexet/models/research/slim/datasets/download_and_convert_flowers.py:57: The name tf.placeholder is deprecated. Please use tf.compat.v1.placeholder instead.\n",
      "\n",
      "WARNING:tensorflow:From /Users/johan/Dev/kexet/models/research/slim/datasets/download_and_convert_flowers.py:124: The name tf.Session is deprecated. Please use tf.compat.v1.Session instead.\n",
      "\n",
      "W0504 11:57:22.500859 4722865600 module_wrapper.py:139] From /Users/johan/Dev/kexet/models/research/slim/datasets/download_and_convert_flowers.py:124: The name tf.Session is deprecated. Please use tf.compat.v1.Session instead.\n",
      "\n",
      "2020-05-04 11:57:22.501635: I tensorflow/core/platform/cpu_feature_guard.cc:142] Your CPU supports instructions that this TensorFlow binary was not compiled to use: AVX2 FMA\n",
      "2020-05-04 11:57:22.525757: I tensorflow/compiler/xla/service/service.cc:168] XLA service 0x7fc858505360 initialized for platform Host (this does not guarantee that XLA will be used). Devices:\n",
      "2020-05-04 11:57:22.525781: I tensorflow/compiler/xla/service/service.cc:176]   StreamExecutor device (0): Host, Default Version\n",
      "WARNING:tensorflow:From /Users/johan/Dev/kexet/models/research/slim/datasets/download_and_convert_flowers.py:130: The name tf.python_io.TFRecordWriter is deprecated. Please use tf.io.TFRecordWriter instead.\n",
      "\n",
      "W0504 11:57:22.526885 4722865600 module_wrapper.py:139] From /Users/johan/Dev/kexet/models/research/slim/datasets/download_and_convert_flowers.py:130: The name tf.python_io.TFRecordWriter is deprecated. Please use tf.io.TFRecordWriter instead.\n",
      "\n",
      ">> Converting image 1/3320 shard 0WARNING:tensorflow:From /Users/johan/Dev/kexet/models/research/slim/datasets/download_and_convert_flowers.py:139: The name tf.gfile.GFile is deprecated. Please use tf.io.gfile.GFile instead.\n",
      "\n",
      "W0504 11:57:22.527339 4722865600 module_wrapper.py:139] From /Users/johan/Dev/kexet/models/research/slim/datasets/download_and_convert_flowers.py:139: The name tf.gfile.GFile is deprecated. Please use tf.io.gfile.GFile instead.\n",
      "\n",
      ">> Converting image 3320/3320 shard 4\n",
      ">> Converting image 350/350 shard 4\n",
      "WARNING:tensorflow:From /Users/johan/Dev/kexet/models/research/slim/datasets/dataset_utils.py:176: The name tf.gfile.Open is deprecated. Please use tf.io.gfile.GFile instead.\n",
      "\n",
      "W0504 11:57:32.037160 4722865600 module_wrapper.py:139] From /Users/johan/Dev/kexet/models/research/slim/datasets/dataset_utils.py:176: The name tf.gfile.Open is deprecated. Please use tf.io.gfile.GFile instead.\n",
      "\n",
      "WARNING:tensorflow:From /Users/johan/Dev/kexet/models/research/slim/datasets/download_and_convert_flowers.py:161: The name tf.gfile.Remove is deprecated. Please use tf.io.gfile.remove instead.\n",
      "\n",
      "W0504 11:57:32.037842 4722865600 module_wrapper.py:139] From /Users/johan/Dev/kexet/models/research/slim/datasets/download_and_convert_flowers.py:161: The name tf.gfile.Remove is deprecated. Please use tf.io.gfile.remove instead.\n",
      "\n",
      "WARNING:tensorflow:From /Users/johan/Dev/kexet/models/research/slim/datasets/download_and_convert_flowers.py:164: The name tf.gfile.DeleteRecursively is deprecated. Please use tf.io.gfile.rmtree instead.\n",
      "\n",
      "W0504 11:57:32.045693 4722865600 module_wrapper.py:139] From /Users/johan/Dev/kexet/models/research/slim/datasets/download_and_convert_flowers.py:164: The name tf.gfile.DeleteRecursively is deprecated. Please use tf.io.gfile.rmtree instead.\n",
      "\n",
      "\n",
      "Finished converting the Flowers dataset!\n"
     ]
    }
   ],
   "source": [
    "!python3 download_and_convert_data.py \\\n",
    "    --dataset_name=flowers \\\n",
    "    --dataset_dir=\"${DATASET_DIR}\""
   ]
  },
  {
   "cell_type": "markdown",
   "metadata": {},
   "source": [
    "### Transfer learning\n",
    "* Ladda vikterna från den generella färdigtränade modellen, men exkludera sista lagret med \"checkpoint_exclude_scopes\". \n",
    "* Träna om vikterna i detta lager med \"trainable_scopes\"."
   ]
  },
  {
   "cell_type": "code",
   "execution_count": 4,
   "metadata": {},
   "outputs": [
    {
     "name": "stdout",
     "output_type": "stream",
     "text": [
      "WARNING:tensorflow:From train_image_classifier.py:608: The name tf.app.run is deprecated. Please use tf.compat.v1.app.run instead.\r\n",
      "\r\n",
      "WARNING:tensorflow:From train_image_classifier.py:417: The name tf.logging.set_verbosity is deprecated. Please use tf.compat.v1.logging.set_verbosity instead.\r\n",
      "\r\n",
      "W0504 11:54:03.986433 4411241920 module_wrapper.py:139] From train_image_classifier.py:417: The name tf.logging.set_verbosity is deprecated. Please use tf.compat.v1.logging.set_verbosity instead.\r\n",
      "\r\n",
      "WARNING:tensorflow:From train_image_classifier.py:417: The name tf.logging.INFO is deprecated. Please use tf.compat.v1.logging.INFO instead.\r\n",
      "\r\n",
      "W0504 11:54:03.986618 4411241920 module_wrapper.py:139] From train_image_classifier.py:417: The name tf.logging.INFO is deprecated. Please use tf.compat.v1.logging.INFO instead.\r\n",
      "\r\n",
      "WARNING:tensorflow:From train_image_classifier.py:431: create_global_step (from tensorflow.contrib.framework.python.ops.variables) is deprecated and will be removed in a future version.\r\n",
      "Instructions for updating:\r\n",
      "Please switch to tf.train.create_global_step\r\n",
      "W0504 11:54:03.991581 4411241920 deprecation.py:323] From train_image_classifier.py:431: create_global_step (from tensorflow.contrib.framework.python.ops.variables) is deprecated and will be removed in a future version.\r\n",
      "Instructions for updating:\r\n",
      "Please switch to tf.train.create_global_step\r\n",
      "WARNING:tensorflow:From /Users/johan/Dev/kexet/models/research/slim/datasets/flowers.py:74: The name tf.FixedLenFeature is deprecated. Please use tf.io.FixedLenFeature instead.\r\n",
      "\r\n",
      "W0504 11:54:04.002713 4411241920 module_wrapper.py:139] From /Users/johan/Dev/kexet/models/research/slim/datasets/flowers.py:74: The name tf.FixedLenFeature is deprecated. Please use tf.io.FixedLenFeature instead.\r\n",
      "\r\n",
      "WARNING:tensorflow:From /Users/johan/Dev/kexet/models/research/slim/datasets/dataset_utils.py:192: The name tf.gfile.Exists is deprecated. Please use tf.io.gfile.exists instead.\r\n",
      "\r\n",
      "W0504 11:54:04.003545 4411241920 module_wrapper.py:139] From /Users/johan/Dev/kexet/models/research/slim/datasets/dataset_utils.py:192: The name tf.gfile.Exists is deprecated. Please use tf.io.gfile.exists instead.\r\n",
      "\r\n",
      "Traceback (most recent call last):\r\n",
      "  File \"train_image_classifier.py\", line 608, in <module>\r\n",
      "    tf.app.run()\r\n",
      "  File \"/usr/local/lib/python3.7/site-packages/tensorflow_core/python/platform/app.py\", line 40, in run\r\n",
      "    _run(main=main, argv=argv, flags_parser=_parse_flags_tolerate_undef)\r\n",
      "  File \"/usr/local/lib/python3.7/site-packages/absl/app.py\", line 299, in run\r\n",
      "    _run_main(main, args)\r\n",
      "  File \"/usr/local/lib/python3.7/site-packages/absl/app.py\", line 250, in _run_main\r\n",
      "    sys.exit(main(argv))\r\n",
      "  File \"train_image_classifier.py\", line 465, in main\r\n",
      "    common_queue_min=10 * FLAGS.batch_size)\r\n",
      "  File \"/usr/local/lib/python3.7/site-packages/tensorflow_core/contrib/slim/python/slim/data/dataset_data_provider.py\", line 96, in __init__\r\n",
      "    scope=scope)\r\n",
      "  File \"/usr/local/lib/python3.7/site-packages/tensorflow_core/contrib/slim/python/slim/data/parallel_reader.py\", line 239, in parallel_read\r\n",
      "    data_files = get_data_files(data_sources)\r\n",
      "  File \"/usr/local/lib/python3.7/site-packages/tensorflow_core/contrib/slim/python/slim/data/parallel_reader.py\", line 312, in get_data_files\r\n",
      "    data_files = gfile.Glob(data_sources)\r\n",
      "  File \"/usr/local/lib/python3.7/site-packages/tensorflow_core/python/lib/io/file_io.py\", line 363, in get_matching_files\r\n",
      "    return get_matching_files_v2(filename)\r\n",
      "  File \"/usr/local/lib/python3.7/site-packages/tensorflow_core/python/lib/io/file_io.py\", line 384, in get_matching_files_v2\r\n",
      "    compat.as_bytes(pattern))\r\n",
      "tensorflow.python.framework.errors_impl.NotFoundError: /tmp/data/flowers; No such file or directory\r\n"
     ]
    }
   ],
   "source": [
    "# Fine-tune only the new layers for 1000 steps.\n",
    "!python3 train_image_classifier.py \\\n",
    "  --train_dir=${TRAIN_DIR} \\\n",
    "  --dataset_name=flowers \\\n",
    "  --dataset_split_name=train \\\n",
    "  --dataset_dir=${DATASET_DIR} \\\n",
    "  --model_name=inception_v3 \\\n",
    "  --checkpoint_path=${PRETRAINED_CHECKPOINT_DIR}/inception_v3.ckpt \\\n",
    "  --checkpoint_exclude_scopes=InceptionV3/Logits,InceptionV3/AuxLogits \\\n",
    "  --trainable_scopes=InceptionV3/Logits,InceptionV3/AuxLogits \\\n",
    "  --max_number_of_steps=1000 \\\n",
    "  --batch_size=32 \\\n",
    "  --learning_rate=0.01 \\\n",
    "  --learning_rate_decay_type=fixed \\\n",
    "  --save_interval_secs=60 \\\n",
    "  --save_summaries_secs=60 \\\n",
    "  --log_every_n_steps=100 \\\n",
    "  --optimizer=rmsprop \\\n",
    "  --weight_decay=0.00004"
   ]
  },
  {
   "cell_type": "code",
   "execution_count": null,
   "metadata": {},
   "outputs": [],
   "source": [
    "# Run evaluation.\n",
    "python eval_image_classifier.py \\\n",
    "  --checkpoint_path=${TRAIN_DIR} \\\n",
    "  --eval_dir=${TRAIN_DIR} \\\n",
    "  --dataset_name=flowers \\\n",
    "  --dataset_split_name=validation \\\n",
    "  --dataset_dir=${DATASET_DIR} \\\n",
    "  --model_name=inception_v3"
   ]
  },
  {
   "cell_type": "code",
   "execution_count": null,
   "metadata": {},
   "outputs": [],
   "source": [
    "import json\n",
    "import os\n",
    "\n",
    "path_to_descriptions = '/kdlskdlsd'\n",
    "\n",
    "final_path = '/tmp/data/skincancer'\n",
    "\n",
    "for root, dirs, files in os.walk(path_to_desriptions):\n",
    "    for name in files:\n",
    "        src = root + '/' + name\n",
    "        with open(src) as data_file:\n",
    "            jsonList = json.load(data_file)\n",
    "            \n",
    "            disease = jsonList['meta']['clinical']['diagnosis']\n",
    "            image_src_path = '../' + name + '.jpeg'\n",
    "            disease_dir = final_path + '/' + disease\n",
    "            if not os.path.exists(disease_dir):\n",
    "                os.makedirs(disease_dir)\n",
    "            \n",
    "            data_file.close()\n",
    "            shutil.copy(image_src_path, disease_dir)\n",
    "            \n",
    "print(\"Finished!\")"
   ]
  }
 ],
 "metadata": {
  "kernelspec": {
   "display_name": "Python 3",
   "language": "python",
   "name": "python3"
  },
  "language_info": {
   "codemirror_mode": {
    "name": "ipython",
    "version": 3
   },
   "file_extension": ".py",
   "mimetype": "text/x-python",
   "name": "python",
   "nbconvert_exporter": "python",
   "pygments_lexer": "ipython3",
   "version": "3.7.6"
  }
 },
 "nbformat": 4,
 "nbformat_minor": 4
}
